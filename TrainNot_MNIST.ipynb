{
 "cells": [
  {
   "cell_type": "code",
   "execution_count": 4,
   "metadata": {},
   "outputs": [],
   "source": [
    "# These are all the modules we'll be using later. Make sure you can import them\n",
    "# before proceeding further.\n",
    "from __future__ import print_function\n",
    "%matplotlib inline\n",
    "import matplotlib.pyplot as plt\n",
    "import numpy as np\n",
    "import h5py\n",
    "import keras\n",
    "from keras.datasets import mnist\n",
    "from keras.layers import Dense, Flatten\n",
    "from keras.layers import Conv2D, MaxPooling2D\n",
    "from keras.models import Sequential\n",
    "from keras_tqdm import TQDMNotebookCallback\n",
    "from keras.models import model_from_json\n",
    "from keras.callbacks import ModelCheckpoint\n",
    "\n",
    "\n",
    "# Config the matplotlib backend as plotting inline in IPython\n",
    "%matplotlib inline"
   ]
  },
  {
   "cell_type": "code",
   "execution_count": 5,
   "metadata": {},
   "outputs": [
    {
     "name": "stdout",
     "output_type": "stream",
     "text": [
      "Test set  (18726, 28, 28) (18726,)\n",
      "Train set  (511119, 28, 28) (511119,)\n",
      "Valid set  (18000, 28, 28) (18000,)\n"
     ]
    }
   ],
   "source": [
    "#load data\n",
    "def load_dataset(file):\n",
    "  h5f = h5py.File(file, 'r')\n",
    "  dataset, labels = h5f[\"dataset\"][:], h5f[\"labels\"][:]\n",
    "  h5f.close()\n",
    "  return dataset, labels\n",
    "\n",
    "def split_dataset(dataset, label_dataset, valid_size):\n",
    "  size = len(dataset)\n",
    "  return dataset[:size - valid_size, :, :], label_dataset[:size - valid_size], dataset[size - valid_size: size, :, :], label_dataset[size - valid_size:size]\n",
    "\n",
    "x_test, y_test = load_dataset('not_mnist_dataset_full_test.h5')\n",
    "print('Test set ', x_test.shape, y_test.shape)\n",
    "x_train_val, y_train_val = load_dataset('not_mnist_dataset_full_train.h5')\n",
    "x_train, y_train, x_valid, y_valid = split_dataset(x_train_val, y_train_val, 18000)\n",
    "print('Train set ', x_train.shape, y_train.shape)\n",
    "print('Valid set ', x_valid.shape, y_valid.shape)"
   ]
  },
  {
   "cell_type": "code",
   "execution_count": 7,
   "metadata": {},
   "outputs": [
    {
     "data": {
      "text/plain": [
       "(18726, 10)"
      ]
     },
     "execution_count": 7,
     "metadata": {},
     "output_type": "execute_result"
    }
   ],
   "source": [
    "image_size = 28\n",
    "num_channels = 1\n",
    "pixel_depth = 255\n",
    "num_classes = 10\n",
    "epochs = 5\n",
    "batch_size=32\n",
    "model_dir='not_mnist_dir/'\n",
    "model_arch_file = model_dir + 'model_arch.json'\n",
    "model_checkPoint_file = model_dir + 'model_checkpoint.h5'\n",
    "model_final_file = model_dir + 'model_final.h5'\n",
    "keras.utils.to_categorical(y_test, num_classes).shape"
   ]
  },
  {
   "cell_type": "code",
   "execution_count": 8,
   "metadata": {},
   "outputs": [
    {
     "name": "stdout",
     "output_type": "stream",
     "text": [
      "Train set  (511119, 28, 28, 1) (511119, 28, 28, 1)\n",
      "Valid set  (18000, 28, 28, 1) (18000, 28, 28, 1)\n",
      "Test set  (18726, 28, 28, 1) (18726, 28, 28, 1)\n"
     ]
    }
   ],
   "source": [
    "#reformat\n",
    "def reformat(dataset, labels):\n",
    "    dataset = dataset.reshape(-1, image_size, image_size, num_channels).astype(np.float32)\n",
    "    dataset /= pixel_depth\n",
    "    labels = (np.arange(num_classes) == labels[:,None]).astype(np.float32)\n",
    "    #keras.utils.to_categorical(y_test, num_classes).shape\n",
    "    return dataset, labels\n",
    "\n",
    "x_train_r, y_train_r = reformat(x_train, y_train)\n",
    "x_valid_r, y_valid_r = reformat(x_valid, y_valid)\n",
    "x_test_r, y_test_r = reformat(x_test, y_test)\n",
    "print('Train set ', x_train_r.shape, x_train_r.shape)\n",
    "print('Valid set ', x_valid_r.shape, x_valid_r.shape)\n",
    "print('Test set ', x_test_r.shape, x_test_r.shape)"
   ]
  },
  {
   "cell_type": "code",
   "execution_count": 11,
   "metadata": {},
   "outputs": [],
   "source": [
    "#model\n",
    "model = Sequential()\n",
    "model.add(Conv2D(32, kernel_size=(5, 5), strides=(1, 1), activation='relu', input_shape=x_train_r.shape[1:]))\n",
    "model.add(MaxPooling2D(pool_size=(2, 2), strides=(2,2)))\n",
    "model.add(Conv2D(64, kernel_size=(5,5), activation='relu'))\n",
    "model.add(MaxPooling2D(pool_size=(2, 2)))\n",
    "model.add(Flatten())\n",
    "model.add(Dense(1000, activation='relu'))\n",
    "model.add(Dense(num_classes, activation='softmax'))\n",
    "model_json = model.to_json()\n",
    "with open(model_arch_file, 'w') as f:\n",
    "    f.write(model_json)"
   ]
  },
  {
   "cell_type": "code",
   "execution_count": 12,
   "metadata": {},
   "outputs": [
    {
     "data": {
      "application/vnd.jupyter.widget-view+json": {
       "model_id": "f2ea794a1d6e4559bb5b10a545b236c0",
       "version_major": 2,
       "version_minor": 0
      },
      "text/plain": [
       "A Jupyter Widget"
      ]
     },
     "metadata": {},
     "output_type": "display_data"
    },
    {
     "data": {
      "application/vnd.jupyter.widget-view+json": {
       "model_id": "0f121da2e7d04a13b548fa6505f7950d",
       "version_major": 2,
       "version_minor": 0
      },
      "text/plain": [
       "A Jupyter Widget"
      ]
     },
     "metadata": {},
     "output_type": "display_data"
    },
    {
     "name": "stdout",
     "output_type": "stream",
     "text": [
      "Epoch 00000: saving model to not_mnist_dir/model_checkpoint.h5\n"
     ]
    },
    {
     "data": {
      "application/vnd.jupyter.widget-view+json": {
       "model_id": "7b6903829f074a8ca1c8ffbcd678c962",
       "version_major": 2,
       "version_minor": 0
      },
      "text/plain": [
       "A Jupyter Widget"
      ]
     },
     "metadata": {},
     "output_type": "display_data"
    },
    {
     "name": "stdout",
     "output_type": "stream",
     "text": [
      "Epoch 00001: saving model to not_mnist_dir/model_checkpoint.h5\n"
     ]
    },
    {
     "data": {
      "application/vnd.jupyter.widget-view+json": {
       "model_id": "4869406cce6b4655bae704f892e8e9bd",
       "version_major": 2,
       "version_minor": 0
      },
      "text/plain": [
       "A Jupyter Widget"
      ]
     },
     "metadata": {},
     "output_type": "display_data"
    },
    {
     "name": "stdout",
     "output_type": "stream",
     "text": [
      "Epoch 00002: saving model to not_mnist_dir/model_checkpoint.h5\n"
     ]
    },
    {
     "data": {
      "application/vnd.jupyter.widget-view+json": {
       "model_id": "6156123314834168a3351cfed208f031",
       "version_major": 2,
       "version_minor": 0
      },
      "text/plain": [
       "A Jupyter Widget"
      ]
     },
     "metadata": {},
     "output_type": "display_data"
    },
    {
     "name": "stdout",
     "output_type": "stream",
     "text": [
      "Epoch 00003: saving model to not_mnist_dir/model_checkpoint.h5\n"
     ]
    },
    {
     "data": {
      "application/vnd.jupyter.widget-view+json": {
       "model_id": "38cebed0687e4300aa7a1b4655c45285",
       "version_major": 2,
       "version_minor": 0
      },
      "text/plain": [
       "A Jupyter Widget"
      ]
     },
     "metadata": {},
     "output_type": "display_data"
    },
    {
     "name": "stdout",
     "output_type": "stream",
     "text": [
      "Epoch 00004: saving model to not_mnist_dir/model_checkpoint.h5\n",
      "\n"
     ]
    }
   ],
   "source": [
    "#Train\n",
    "with open(model_arch_file, 'r') as f:\n",
    "    model_json = f.read()\n",
    "    model = model_from_json(model_json)\n",
    "adam = keras.optimizers.Adam(lr=0.001, beta_1=0.9, beta_2=0.999)\n",
    "#grad = keras.optimizers.SGD(lr=0.01)\n",
    "rLR = keras.callbacks.ReduceLROnPlateau(monitor='val_loss', factor=0.1, patience=2)\n",
    "model.compile(optimizer = adam,\n",
    "              loss='categorical_crossentropy',\n",
    "              metrics=['categorical_accuracy'])\n",
    "callbacks = [ModelCheckpoint(model_checkPoint_file, verbose=1), \n",
    "             TQDMNotebookCallback(leave_inner=True),\n",
    "             rLR]\n",
    "history_model = model.fit(x_train_r, y_train_r, batch_size, epochs=epochs, verbose=0, \n",
    "                        validation_data=(x_valid_r, y_valid_r), shuffle=True, callbacks=callbacks)\n",
    "model.save(model_final_file)"
   ]
  },
  {
   "cell_type": "code",
   "execution_count": 14,
   "metadata": {},
   "outputs": [
    {
     "name": "stdout",
     "output_type": "stream",
     "text": [
      "18560/18726 [============================>.] - ETA: 0s\n",
      " Test Loss: 0.0954748119398\n",
      "Test Accuracy 0.973192352878\n",
      "dict_keys(['val_loss', 'val_categorical_accuracy', 'loss', 'categorical_accuracy', 'lr'])\n"
     ]
    },
    {
     "data": {
      "image/png": "[encoded data removed]",
      "text/plain": [
       "<matplotlib.figure.Figure at 0x7fa3607caa90>"
      ]
     },
     "metadata": {},
     "output_type": "display_data"
    },
    {
     "data": {
      "image/png": "[encoded data removed]",
      "text/plain": [
       "<matplotlib.figure.Figure at 0x7fa2f8506860>"
      ]
     },
     "metadata": {},
     "output_type": "display_data"
    }
   ],
   "source": [
    "score = model.evaluate(x_test_r, y_test_r)\n",
    "print('\\n','Test Loss:', score[0])\n",
    "print('Test Accuracy', score[1])\n",
    "print(history_model.history.keys())\n",
    "val = plt.plot(history_model.history['val_categorical_accuracy'], label='VAL_ACC')\n",
    "trn = plt.plot(history_model.history['categorical_accuracy'], label='TRN_ACC')\n",
    "plt.title(\"Accuracy\")\n",
    "plt.xlabel(\"Epoch\")\n",
    "plt.ylabel(\"Accuracy\")\n",
    "plt.legend(loc=2, fontsize=\"small\")\n",
    "plt.show()\n",
    "plt.plot(history_model.history['val_loss'], label='VAL_LOSS')\n",
    "plt.plot(history_model.history['loss'], label='TRN_LOSS')\n",
    "plt.title(\"Loss\")\n",
    "plt.xlabel(\"Epoch\")\n",
    "plt.ylabel(\"Loss\")\n",
    "plt.legend(loc=2, fontsize=\"small\")\n",
    "plt.show()"
   ]
  },
  {
   "cell_type": "code",
   "execution_count": 15,
   "metadata": {},
   "outputs": [
    {
     "data": {
      "text/plain": [
       "[0.91866666666666663,\n",
       " 0.92700000000000005,\n",
       " 0.93211111111111111,\n",
       " 0.93383333333333329,\n",
       " 0.93194444444444446]"
      ]
     },
     "execution_count": 15,
     "metadata": {},
     "output_type": "execute_result"
    }
   ],
   "source": [
    "history_model.history['val_categorical_accuracy']"
   ]
  },
  {
   "cell_type": "code",
   "execution_count": 16,
   "metadata": {},
   "outputs": [
    {
     "data": {
      "text/plain": [
       "[0.90523146273188748,\n",
       " 0.9287563170220634,\n",
       " 0.93795182726539139,\n",
       " 0.94555670988556484,\n",
       " 0.95205813127690264]"
      ]
     },
     "execution_count": 16,
     "metadata": {},
     "output_type": "execute_result"
    }
   ],
   "source": [
    "history_model.history['categorical_accuracy']"
   ]
  },
  {
   "cell_type": "code",
   "execution_count": null,
   "metadata": {
    "collapsed": true
   },
   "outputs": [],
   "source": []
  }
 ],
 "metadata": {
  "kernelspec": {
   "display_name": "Python 3",
   "language": "python",
   "name": "python3"
  },
  "language_info": {
   "codemirror_mode": {
    "name": "ipython",
    "version": 3
   },
   "file_extension": ".py",
   "mimetype": "text/x-python",
   "name": "python",
   "nbconvert_exporter": "python",
   "pygments_lexer": "ipython3",
   "version": "3.6.2"
  }
 },
 "nbformat": 4,
 "nbformat_minor": 2
}
